{
 "cells": [
  {
   "cell_type": "markdown",
   "id": "5e4dba0a-f771-4d93-9979-e7d6a0140a52",
   "metadata": {},
   "source": [
    "Pivot the Occupation column in OCCUPATIONS so that each Name is sorted alphabetically and displayed underneath its corresponding Occupation. The output should consist of four columns (Doctor, Professor, Singer, and Actor) in that specific order, with their respective names listed alphabetically under each column.\n",
    "\n",
    "Note: Print NULL when there are no more names corresponding to an occupation.\n",
    "\n",
    "**Input Format**\n",
    "\n",
    "The OCCUPATIONS table is described as follows:\n",
    "\n",
    "![Image Description](https://s3.amazonaws.com/hr-challenge-images/12889/1443816414-2a465532e7-1.png)\n",
    "\n",
    "Occupation will only contain one of the following values: **Doctor**, **Professor**, **Singer** or **Actor**.\n",
    "\n",
    "**Sample Input**\n",
    "\n",
    "![Image Description](https://s3.amazonaws.com/hr-challenge-images/12890/1443817648-1b2b8add45-2.png)\n",
    "\n",
    "\n",
    "**Sample Output**\n",
    "\n",
    "| Doctor  | Professor  | Singer  | Actor  |\n",
    "|---------|------------|---------|--------|\n",
    "| Jenny   | Ashley     | Meera   | Jane   |\n",
    "| Samantha| Christeen  | Priya   | Julia  |\n",
    "| NULL    | Ketty      | NULL    | Maria  |\n",
    "\n",
    "**Explanation**\n",
    "\n",
    "The first column is an alphabetically ordered list of Doctor names.\n",
    "\n",
    "The second column is an alphabetically ordered list of Professor names.\n",
    "    \n",
    "The third column is an alphabetically ordered list of Singer names.\n",
    "\n",
    "The fourth column is an alphabetically ordered list of Actor names.\n",
    "    \n",
    "The empty cell data for columns with less than the maximum number of names per occupation (in this case, the Professor and Actor columns) are filled with NULL values."
   ]
  },
  {
   "cell_type": "code",
   "execution_count": null,
   "id": "81149aaa-6930-4ed5-8c60-64d6fe608b00",
   "metadata": {},
   "outputs": [],
   "source": [
    "%%sql\n",
    "\n",
    "WITH numbers AS (\n",
    "    SELECT *,\n",
    "    ROW_NUMBER() OVER(PARTITION BY Occupation ORDER BY Name) AS number\n",
    "    FROM OCCUPATIONS\n",
    ")\n",
    "SELECT\n",
    "    MAX(CASE\n",
    "        WHEN Occupation = \"Doctor\" THEN Name\n",
    "        END) AS Doctor,\n",
    "    MAX(CASE\n",
    "        WHEN Occupation = \"Professor\" THEN Name\n",
    "        END) AS Professor,\n",
    "    MAX(CASE\n",
    "        WHEN Occupation = \"Singer\" THEN Name\n",
    "        END) AS Singer,\n",
    "    MAX(CASE\n",
    "        WHEN Occupation = \"Actor\" THEN Name\n",
    "        END) AS Actor\n",
    "FROM numbers\n",
    "GROUP BY number;"
   ]
  }
 ],
 "metadata": {
  "kernelspec": {
   "display_name": "Python 3 (ipykernel)",
   "language": "python",
   "name": "python3"
  },
  "language_info": {
   "codemirror_mode": {
    "name": "ipython",
    "version": 3
   },
   "file_extension": ".py",
   "mimetype": "text/x-python",
   "name": "python",
   "nbconvert_exporter": "python",
   "pygments_lexer": "ipython3",
   "version": "3.12.7"
  }
 },
 "nbformat": 4,
 "nbformat_minor": 5
}
