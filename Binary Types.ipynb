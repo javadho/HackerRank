{
 "cells": [
  {
   "cell_type": "markdown",
   "id": "0a5b13bd-3999-40b7-b49a-649391031083",
   "metadata": {},
   "source": [
    "You are given a table, BST, containing two columns: N and P, where N represents the value of a node in Binary Tree, and P is the parent of N.\n",
    "\n",
    "<div style=\"text-align: center;\">\n",
    "    <img src=\"https://s3.amazonaws.com/hr-challenge-images/12888/1443818507-5095ab9853-1.png\" alt=\"image description\">\n",
    "</div>\n",
    "\n",
    "Write a query to find the node type of Binary Tree ordered by the value of the node. Output one of the following for each node:\n",
    "\n",
    "- Root: If node is root node.\n",
    "- Leaf: If node is leaf node.\n",
    "- Inner: If node is neither root nor leaf node.\n",
    "    \n",
    "**Sample Input**\n",
    "\n",
    "<div style=\"text-align: center;\">\n",
    "    <img src=\"https://s3.amazonaws.com/hr-challenge-images/12888/1443818467-30644673f6-2.png\" alt=\"image description\">\n",
    "</div>\n",
    "\n",
    "**Sample Output**\n",
    "\n",
    "| Number | Type  |\n",
    "|--------|-------|\n",
    "| 1      | Leaf  |\n",
    "| 2      | Inner |\n",
    "| 3      | Leaf  |\n",
    "| 5      | Root  |\n",
    "| 6      | Leaf  |\n",
    "| 8      | Inner |\n",
    "| 9      | Leaf  |\n",
    "\n",
    "**Explanation**\n",
    "\n",
    "The Binary Tree below illustrates the sample:\n",
    "\n",
    "<div style=\"text-align: center;\">\n",
    "    <img src=\"https://s3.amazonaws.com/hr-challenge-images/12888/1443773633-f9e6fd314e-simply_sql_bst.png\" alt=\"image description\">\n",
    "</div>\n"
   ]
  },
  {
   "cell_type": "code",
   "execution_count": null,
   "id": "58272030-1392-41b0-9666-063af50495e5",
   "metadata": {},
   "outputs": [],
   "source": [
    "%%sql\n",
    "\n",
    "SELECT\n",
    "    N,\n",
    "    CASE\n",
    "        WHEN P IS NULL THEN \"Root\"\n",
    "        WHEN N IN (\n",
    "                    SELECT\n",
    "                            P\n",
    "                    FROM BST\n",
    "                    GROUP BY P) THEN \"Inner\"\n",
    "        ELSE \"Leaf\"\n",
    "    END AS binary_type\n",
    "FROM BST\n",
    "ORDER BY N;"
   ]
  }
 ],
 "metadata": {
  "kernelspec": {
   "display_name": "Python 3 (ipykernel)",
   "language": "python",
   "name": "python3"
  },
  "language_info": {
   "codemirror_mode": {
    "name": "ipython",
    "version": 3
   },
   "file_extension": ".py",
   "mimetype": "text/x-python",
   "name": "python",
   "nbconvert_exporter": "python",
   "pygments_lexer": "ipython3",
   "version": "3.12.7"
  }
 },
 "nbformat": 4,
 "nbformat_minor": 5
}
